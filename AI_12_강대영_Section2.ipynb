{
  "nbformat": 4,
  "nbformat_minor": 0,
  "metadata": {
    "colab": {
      "name": "Untitled4.ipynb",
      "provenance": []
    },
    "kernelspec": {
      "name": "python3",
      "display_name": "Python 3"
    },
    "language_info": {
      "name": "python"
    }
  },
  "cells": [
    {
      "cell_type": "code",
      "execution_count": 2,
      "metadata": {
        "colab": {
          "base_uri": "https://localhost:8080/"
        },
        "id": "KE56pTIqozkx",
        "outputId": "b6fce7e1-0a02-4bf7-9038-3335f94d57b4"
      },
      "outputs": [
        {
          "output_type": "stream",
          "name": "stdout",
          "text": [
            "Mounted at /content/drive\n"
          ]
        }
      ],
      "source": [
        "from google.colab import drive\n",
        "drive.mount('/content/drive')"
      ]
    },
    {
      "cell_type": "code",
      "source": [
        "import pandas as pd\n",
        "import numpy as np\n",
        "\n",
        "## 넷플릭스 주가 예측을 위한 데이터셋 (2010~2020년)\n",
        "filename = '/content/drive/MyDrive/python/NFLX.csv'\n",
        "df = pd.read_csv(filename)"
      ],
      "metadata": {
        "id": "KUxF7ESCpKtQ"
      },
      "execution_count": 32,
      "outputs": []
    },
    {
      "cell_type": "markdown",
      "source": [
        "***데이터 선정 이유 (넷플릭스 주가)***\n",
        "- 평소 자주 접하는 데이터를 사용하고 싶었다.(넷플릭스)\n",
        "- csv 데이터셋을 찾던 중 주식 데이터셋이 많이 보여 결정했다.\n",
        "\n",
        "***데이터셋의 유형?***\n",
        "- 회귀분석(regression) 유형의 문제로 접근했다."
      ],
      "metadata": {
        "id": "ySSZCuhUpcxn"
      }
    },
    {
      "cell_type": "code",
      "source": [
        "## 시작일을 기준으로(1일) 1일씩 증가하는 컬럼 생성\n",
        "df['time'] = df.sort_index(ascending=True).index+1"
      ],
      "metadata": {
        "id": "wqQM0Wam9Tun"
      },
      "execution_count": 33,
      "outputs": []
    },
    {
      "cell_type": "code",
      "source": [
        "# 데이터셋 확인\n",
        "df.head()"
      ],
      "metadata": {
        "colab": {
          "base_uri": "https://localhost:8080/",
          "height": 206
        },
        "id": "qAsPYEvUpMIX",
        "outputId": "734f7e9b-1705-4124-937c-50cefef55267"
      },
      "execution_count": 34,
      "outputs": [
        {
          "output_type": "execute_result",
          "data": {
            "text/plain": [
              "         Date      Open      High       Low     Close  Adj Close    Volume  \\\n",
              "0  2010-01-04  7.931428  7.961429  7.565714  7.640000   7.640000  17239600   \n",
              "1  2010-01-05  7.652857  7.657143  7.258572  7.358572   7.358572  23753100   \n",
              "2  2010-01-06  7.361429  7.672857  7.197143  7.617143   7.617143  23290400   \n",
              "3  2010-01-07  7.731429  7.757143  7.462857  7.485714   7.485714   9955400   \n",
              "4  2010-01-08  7.498571  7.742857  7.465714  7.614286   7.614286   8180900   \n",
              "\n",
              "   time  \n",
              "0     1  \n",
              "1     2  \n",
              "2     3  \n",
              "3     4  \n",
              "4     5  "
            ],
            "text/html": [
              "\n",
              "  <div id=\"df-19e9ca51-716f-45e8-9d7f-c09ff3de31b7\">\n",
              "    <div class=\"colab-df-container\">\n",
              "      <div>\n",
              "<style scoped>\n",
              "    .dataframe tbody tr th:only-of-type {\n",
              "        vertical-align: middle;\n",
              "    }\n",
              "\n",
              "    .dataframe tbody tr th {\n",
              "        vertical-align: top;\n",
              "    }\n",
              "\n",
              "    .dataframe thead th {\n",
              "        text-align: right;\n",
              "    }\n",
              "</style>\n",
              "<table border=\"1\" class=\"dataframe\">\n",
              "  <thead>\n",
              "    <tr style=\"text-align: right;\">\n",
              "      <th></th>\n",
              "      <th>Date</th>\n",
              "      <th>Open</th>\n",
              "      <th>High</th>\n",
              "      <th>Low</th>\n",
              "      <th>Close</th>\n",
              "      <th>Adj Close</th>\n",
              "      <th>Volume</th>\n",
              "      <th>time</th>\n",
              "    </tr>\n",
              "  </thead>\n",
              "  <tbody>\n",
              "    <tr>\n",
              "      <th>0</th>\n",
              "      <td>2010-01-04</td>\n",
              "      <td>7.931428</td>\n",
              "      <td>7.961429</td>\n",
              "      <td>7.565714</td>\n",
              "      <td>7.640000</td>\n",
              "      <td>7.640000</td>\n",
              "      <td>17239600</td>\n",
              "      <td>1</td>\n",
              "    </tr>\n",
              "    <tr>\n",
              "      <th>1</th>\n",
              "      <td>2010-01-05</td>\n",
              "      <td>7.652857</td>\n",
              "      <td>7.657143</td>\n",
              "      <td>7.258572</td>\n",
              "      <td>7.358572</td>\n",
              "      <td>7.358572</td>\n",
              "      <td>23753100</td>\n",
              "      <td>2</td>\n",
              "    </tr>\n",
              "    <tr>\n",
              "      <th>2</th>\n",
              "      <td>2010-01-06</td>\n",
              "      <td>7.361429</td>\n",
              "      <td>7.672857</td>\n",
              "      <td>7.197143</td>\n",
              "      <td>7.617143</td>\n",
              "      <td>7.617143</td>\n",
              "      <td>23290400</td>\n",
              "      <td>3</td>\n",
              "    </tr>\n",
              "    <tr>\n",
              "      <th>3</th>\n",
              "      <td>2010-01-07</td>\n",
              "      <td>7.731429</td>\n",
              "      <td>7.757143</td>\n",
              "      <td>7.462857</td>\n",
              "      <td>7.485714</td>\n",
              "      <td>7.485714</td>\n",
              "      <td>9955400</td>\n",
              "      <td>4</td>\n",
              "    </tr>\n",
              "    <tr>\n",
              "      <th>4</th>\n",
              "      <td>2010-01-08</td>\n",
              "      <td>7.498571</td>\n",
              "      <td>7.742857</td>\n",
              "      <td>7.465714</td>\n",
              "      <td>7.614286</td>\n",
              "      <td>7.614286</td>\n",
              "      <td>8180900</td>\n",
              "      <td>5</td>\n",
              "    </tr>\n",
              "  </tbody>\n",
              "</table>\n",
              "</div>\n",
              "      <button class=\"colab-df-convert\" onclick=\"convertToInteractive('df-19e9ca51-716f-45e8-9d7f-c09ff3de31b7')\"\n",
              "              title=\"Convert this dataframe to an interactive table.\"\n",
              "              style=\"display:none;\">\n",
              "        \n",
              "  <svg xmlns=\"http://www.w3.org/2000/svg\" height=\"24px\"viewBox=\"0 0 24 24\"\n",
              "       width=\"24px\">\n",
              "    <path d=\"M0 0h24v24H0V0z\" fill=\"none\"/>\n",
              "    <path d=\"M18.56 5.44l.94 2.06.94-2.06 2.06-.94-2.06-.94-.94-2.06-.94 2.06-2.06.94zm-11 1L8.5 8.5l.94-2.06 2.06-.94-2.06-.94L8.5 2.5l-.94 2.06-2.06.94zm10 10l.94 2.06.94-2.06 2.06-.94-2.06-.94-.94-2.06-.94 2.06-2.06.94z\"/><path d=\"M17.41 7.96l-1.37-1.37c-.4-.4-.92-.59-1.43-.59-.52 0-1.04.2-1.43.59L10.3 9.45l-7.72 7.72c-.78.78-.78 2.05 0 2.83L4 21.41c.39.39.9.59 1.41.59.51 0 1.02-.2 1.41-.59l7.78-7.78 2.81-2.81c.8-.78.8-2.07 0-2.86zM5.41 20L4 18.59l7.72-7.72 1.47 1.35L5.41 20z\"/>\n",
              "  </svg>\n",
              "      </button>\n",
              "      \n",
              "  <style>\n",
              "    .colab-df-container {\n",
              "      display:flex;\n",
              "      flex-wrap:wrap;\n",
              "      gap: 12px;\n",
              "    }\n",
              "\n",
              "    .colab-df-convert {\n",
              "      background-color: #E8F0FE;\n",
              "      border: none;\n",
              "      border-radius: 50%;\n",
              "      cursor: pointer;\n",
              "      display: none;\n",
              "      fill: #1967D2;\n",
              "      height: 32px;\n",
              "      padding: 0 0 0 0;\n",
              "      width: 32px;\n",
              "    }\n",
              "\n",
              "    .colab-df-convert:hover {\n",
              "      background-color: #E2EBFA;\n",
              "      box-shadow: 0px 1px 2px rgba(60, 64, 67, 0.3), 0px 1px 3px 1px rgba(60, 64, 67, 0.15);\n",
              "      fill: #174EA6;\n",
              "    }\n",
              "\n",
              "    [theme=dark] .colab-df-convert {\n",
              "      background-color: #3B4455;\n",
              "      fill: #D2E3FC;\n",
              "    }\n",
              "\n",
              "    [theme=dark] .colab-df-convert:hover {\n",
              "      background-color: #434B5C;\n",
              "      box-shadow: 0px 1px 3px 1px rgba(0, 0, 0, 0.15);\n",
              "      filter: drop-shadow(0px 1px 2px rgba(0, 0, 0, 0.3));\n",
              "      fill: #FFFFFF;\n",
              "    }\n",
              "  </style>\n",
              "\n",
              "      <script>\n",
              "        const buttonEl =\n",
              "          document.querySelector('#df-19e9ca51-716f-45e8-9d7f-c09ff3de31b7 button.colab-df-convert');\n",
              "        buttonEl.style.display =\n",
              "          google.colab.kernel.accessAllowed ? 'block' : 'none';\n",
              "\n",
              "        async function convertToInteractive(key) {\n",
              "          const element = document.querySelector('#df-19e9ca51-716f-45e8-9d7f-c09ff3de31b7');\n",
              "          const dataTable =\n",
              "            await google.colab.kernel.invokeFunction('convertToInteractive',\n",
              "                                                     [key], {});\n",
              "          if (!dataTable) return;\n",
              "\n",
              "          const docLinkHtml = 'Like what you see? Visit the ' +\n",
              "            '<a target=\"_blank\" href=https://colab.research.google.com/notebooks/data_table.ipynb>data table notebook</a>'\n",
              "            + ' to learn more about interactive tables.';\n",
              "          element.innerHTML = '';\n",
              "          dataTable['output_type'] = 'display_data';\n",
              "          await google.colab.output.renderOutput(dataTable, element);\n",
              "          const docLink = document.createElement('div');\n",
              "          docLink.innerHTML = docLinkHtml;\n",
              "          element.appendChild(docLink);\n",
              "        }\n",
              "      </script>\n",
              "    </div>\n",
              "  </div>\n",
              "  "
            ]
          },
          "metadata": {},
          "execution_count": 34
        }
      ]
    },
    {
      "cell_type": "code",
      "source": [
        "# row, column 수\n",
        "df.shape"
      ],
      "metadata": {
        "colab": {
          "base_uri": "https://localhost:8080/"
        },
        "id": "INjOUN4A99u6",
        "outputId": "f38bc69a-83a4-4e4f-ec4e-acba1c5b1361"
      },
      "execution_count": 36,
      "outputs": [
        {
          "output_type": "execute_result",
          "data": {
            "text/plain": [
              "(2664, 8)"
            ]
          },
          "metadata": {},
          "execution_count": 36
        }
      ]
    },
    {
      "cell_type": "code",
      "source": [
        "# 데이터셋의 데이터 타입 확인\n",
        "df.dtypes"
      ],
      "metadata": {
        "colab": {
          "base_uri": "https://localhost:8080/"
        },
        "id": "x112p0lmpNRf",
        "outputId": "17ef7bf4-289f-4ab7-fc0b-f90dc546f20a"
      },
      "execution_count": 35,
      "outputs": [
        {
          "output_type": "execute_result",
          "data": {
            "text/plain": [
              "Date          object\n",
              "Open         float64\n",
              "High         float64\n",
              "Low          float64\n",
              "Close        float64\n",
              "Adj Close    float64\n",
              "Volume         int64\n",
              "time           int64\n",
              "dtype: object"
            ]
          },
          "metadata": {},
          "execution_count": 35
        }
      ]
    },
    {
      "cell_type": "code",
      "source": [
        "df.isnull().sum()"
      ],
      "metadata": {
        "colab": {
          "base_uri": "https://localhost:8080/"
        },
        "id": "KLzg1PwsxE57",
        "outputId": "d059db70-6ef1-4294-ccc4-541b47265ce9"
      },
      "execution_count": 37,
      "outputs": [
        {
          "output_type": "execute_result",
          "data": {
            "text/plain": [
              "Date         0\n",
              "Open         0\n",
              "High         0\n",
              "Low          0\n",
              "Close        0\n",
              "Adj Close    0\n",
              "Volume       0\n",
              "time         0\n",
              "dtype: int64"
            ]
          },
          "metadata": {},
          "execution_count": 37
        }
      ]
    },
    {
      "cell_type": "markdown",
      "source": [
        "***Target 특성?***\n",
        "- 종가(Close)를 Target 특성으로 선택했다."
      ],
      "metadata": {
        "id": "CY7pm7ys3kkz"
      }
    },
    {
      "cell_type": "code",
      "source": [
        "# 타겟 특성(Close)의 통계 요약 정보\n",
        "df['Close'].describe()"
      ],
      "metadata": {
        "colab": {
          "base_uri": "https://localhost:8080/"
        },
        "id": "fXbzpcQ4357l",
        "outputId": "d9c7f698-1f5a-4076-ae4b-a777a5ad665a"
      },
      "execution_count": 38,
      "outputs": [
        {
          "output_type": "execute_result",
          "data": {
            "text/plain": [
              "count    2664.000000\n",
              "mean      131.808691\n",
              "std       131.222477\n",
              "min         7.018571\n",
              "25%        27.770356\n",
              "50%        79.622142\n",
              "75%       196.252499\n",
              "max       548.729980\n",
              "Name: Close, dtype: float64"
            ]
          },
          "metadata": {},
          "execution_count": 38
        }
      ]
    },
    {
      "cell_type": "code",
      "source": [
        "import matplotlib.pyplot as plt\n",
        "import seaborn as sns\n",
        "\n",
        "## Close의 확률밀도함수\n",
        "sns.displot(df['Close'], kde=True)\n",
        "\n",
        "## 평균과, 중간값으로 수직선을 그린다\n",
        "plt.axvline(df['Close'].mean(), color='blue')\n",
        "plt.axvline(df['Close'].median(), color='red');"
      ],
      "metadata": {
        "colab": {
          "base_uri": "https://localhost:8080/",
          "height": 369
        },
        "id": "igsiRRgn4Dg8",
        "outputId": "08982d25-bc3e-4137-e56a-8901a36804b3"
      },
      "execution_count": 39,
      "outputs": [
        {
          "output_type": "display_data",
          "data": {
            "text/plain": [
              "<Figure size 360x360 with 1 Axes>"
            ],
            "image/png": "[encoded data removed]"
          },
          "metadata": {
            "needs_background": "light"
          }
        }
      ]
    },
    {
      "cell_type": "markdown",
      "source": [
        "***기준모델(Baseline Model)***\n",
        "- 평균값을 기준으로 평균기준모델을 선정(타겟의 평균값)"
      ],
      "metadata": {
        "id": "ZoOA-HA14gvZ"
      }
    },
    {
      "cell_type": "code",
      "source": [
        "from sklearn.model_selection import cross_val_score, train_test_split\n",
        "from sklearn.linear_model import LinearRegression\n",
        "from sklearn.metrics import mean_squared_error, r2_score\n",
        "\n",
        "x = df['time']\n",
        "y = df['Close']\n",
        "\n",
        "## predict: 타겟의 평균 값을 예측값으로 설정\n",
        "predict = df['Close'].mean()\n",
        "\n",
        "## 평균값으로 예측할 때 샘플 별 평균값과의 차이(error)를 저장\n",
        "errors = predict - df['Close']\n",
        "\n",
        "# Mean Absolute Error(MAE, 평균절대오차), 예측 error의 절대값 평균\n",
        "mean_absolute_error = errors.abs().mean()\n",
        "\n",
        "sns.lineplot(x=x, y=predict, color='red')\n",
        "sns.scatterplot(x=x, y=y, color='blue');"
      ],
      "metadata": {
        "colab": {
          "base_uri": "https://localhost:8080/",
          "height": 278
        },
        "id": "fa6Xs-49ANVk",
        "outputId": "9f80ac92-c870-4d95-9835-35a9b792b861"
      },
      "execution_count": 40,
      "outputs": [
        {
          "output_type": "display_data",
          "data": {
            "text/plain": [
              "<Figure size 432x288 with 1 Axes>"
            ],
            "image/png": "[encoded data removed]"
          },
          "metadata": {
            "needs_background": "light"
          }
        }
      ]
    },
    {
      "cell_type": "code",
      "source": [
        "print(f'예측한 주가가 ${predict:,.0f}이며 절대평균에러가 ${mean_absolute_error:,.0f}임을 확인할 수 있습니다.')"
      ],
      "metadata": {
        "colab": {
          "base_uri": "https://localhost:8080/"
        },
        "id": "G8r8IKfYCdy3",
        "outputId": "1863233e-db41-4e3c-ca0e-250eb640b498"
      },
      "execution_count": 41,
      "outputs": [
        {
          "output_type": "stream",
          "name": "stdout",
          "text": [
            "예측한 주가가 $132이며 절대평균에러가 $110임을 확인할 수 있습니다.\n"
          ]
        }
      ]
    },
    {
      "cell_type": "code",
      "source": [
        "# 앞의 2300개의 데이터는 train(훈련) 데이터, 뒤의 300개는 test 데이터\n",
        "train =df.loc[df.time <= 2300][[\"Close\", \"time\"]]\n",
        "print('train data 개수: ', len(train))\n",
        "test =df.loc[df.time > 2300][[\"Close\", \"time\"]]\n",
        "print('test data 개수: ', len(test))"
      ],
      "metadata": {
        "colab": {
          "base_uri": "https://localhost:8080/"
        },
        "id": "dIDBAPg4T90d",
        "outputId": "914c8a4f-e723-4ac6-8237-85894fd5b515"
      },
      "execution_count": 42,
      "outputs": [
        {
          "output_type": "stream",
          "name": "stdout",
          "text": [
            "train data 개수:  2300\n",
            "test data 개수:  364\n"
          ]
        }
      ]
    },
    {
      "cell_type": "code",
      "source": [
        "feature = ['time']\n",
        "target = ['Close']\n",
        "X_train = train[feature]\n",
        "X_test = test[feature]\n",
        "y_train = train[target]\n",
        "y_test = test[target]\n",
        "\n",
        "## 모델을 학습(fit)\n",
        "model = LinearRegression()\n",
        "model.fit(X_train, y_train)"
      ],
      "metadata": {
        "colab": {
          "base_uri": "https://localhost:8080/"
        },
        "id": "6MZ2JUJK5OwJ",
        "outputId": "74b0bb44-42cf-4e9c-e9f8-caf74a779c84"
      },
      "execution_count": 43,
      "outputs": [
        {
          "output_type": "execute_result",
          "data": {
            "text/plain": [
              "LinearRegression()"
            ]
          },
          "metadata": {},
          "execution_count": 43
        }
      ]
    },
    {
      "cell_type": "code",
      "source": [
        "y_pred = model.predict(X_test)\n",
        "mse = mean_squared_error(y_test, y_pred)\n",
        "rmse = np.sqrt(mse)\n",
        "print('MSE : {0:.3f}, RMSE : {1:.3F}'.format(mse, rmse))\n",
        "print('\\nr2 Variance score  {0:.3F}'.format(r2_score(y_test, y_pred)))"
      ],
      "metadata": {
        "colab": {
          "base_uri": "https://localhost:8080/"
        },
        "id": "48s5izfn-0wt",
        "outputId": "40def5d9-3c6b-401e-c9d8-1d0b7624e91d"
      },
      "execution_count": 44,
      "outputs": [
        {
          "output_type": "stream",
          "name": "stdout",
          "text": [
            "MSE : 11875.810, RMSE : 108.976\n",
            "\n",
            "r2 Variance score  -2.326\n"
          ]
        }
      ]
    },
    {
      "cell_type": "code",
      "source": [
        "import statsmodels.api as sm\n",
        "import os\n",
        "\n",
        "time_tr = sm.add_constant(X_train)\n",
        "mod = sm.OLS(y_train, time_tr)\n",
        "res = mod.fit()\n",
        "print(res.summary())"
      ],
      "metadata": {
        "colab": {
          "base_uri": "https://localhost:8080/"
        },
        "id": "bfkST-nn3tU1",
        "outputId": "3fae976a-a874-4bcb-f60e-ad582636980b"
      },
      "execution_count": 45,
      "outputs": [
        {
          "output_type": "stream",
          "name": "stdout",
          "text": [
            "                            OLS Regression Results                            \n",
            "==============================================================================\n",
            "Dep. Variable:                  Close   R-squared:                       0.723\n",
            "Model:                            OLS   Adj. R-squared:                  0.723\n",
            "Method:                 Least Squares   F-statistic:                     6003.\n",
            "Date:                Tue, 22 Mar 2022   Prob (F-statistic):               0.00\n",
            "Time:                        14:31:35   Log-Likelihood:                -12361.\n",
            "No. Observations:                2300   AIC:                         2.473e+04\n",
            "Df Residuals:                    2298   BIC:                         2.474e+04\n",
            "Df Model:                           1                                         \n",
            "Covariance Type:            nonrobust                                         \n",
            "==============================================================================\n",
            "                 coef    std err          t      P>|t|      [0.025      0.975]\n",
            "------------------------------------------------------------------------------\n",
            "const        -50.4818      2.179    -23.170      0.000     -54.754     -46.209\n",
            "time           0.1271      0.002     77.479      0.000       0.124       0.130\n",
            "==============================================================================\n",
            "Omnibus:                      399.337   Durbin-Watson:                   0.005\n",
            "Prob(Omnibus):                  0.000   Jarque-Bera (JB):              636.693\n",
            "Skew:                           1.192   Prob(JB):                    5.54e-139\n",
            "Kurtosis:                       3.981   Cond. No.                     2.66e+03\n",
            "==============================================================================\n",
            "\n",
            "Warnings:\n",
            "[1] Standard Errors assume that the covariance matrix of the errors is correctly specified.\n",
            "[2] The condition number is large, 2.66e+03. This might indicate that there are\n",
            "strong multicollinearity or other numerical problems.\n"
          ]
        },
        {
          "output_type": "stream",
          "name": "stderr",
          "text": [
            "/usr/local/lib/python3.7/dist-packages/statsmodels/tsa/tsatools.py:117: FutureWarning: In a future version of pandas all arguments of concat except for the argument 'objs' will be keyword-only\n",
            "  x = pd.concat(x[::order], 1)\n"
          ]
        }
      ]
    },
    {
      "cell_type": "code",
      "source": [
        "## 실제 주가와 예측 값의 추세\n",
        "\n",
        "train_result=res.predict(time_tr)\n",
        "plt.plot(X_train, train_result, label = \"Predict\")\n",
        "plt.plot(X_train, y_train, label = \"Real\")\n",
        "plt.xlabel(\"time\")\n",
        "plt.ylabel(\"Close\")\n",
        "plt.legend()\n",
        "plt.title(\"Real vs Predict\")\n",
        "plt.show()"
      ],
      "metadata": {
        "colab": {
          "base_uri": "https://localhost:8080/",
          "height": 294
        },
        "id": "FOAhNIRJ5JOj",
        "outputId": "e60c2869-c787-4472-fcc9-f1a90ceab3c3"
      },
      "execution_count": 46,
      "outputs": [
        {
          "output_type": "display_data",
          "data": {
            "text/plain": [
              "<Figure size 432x288 with 1 Axes>"
            ],
            "image/png": "[encoded data removed]"
          },
          "metadata": {
            "needs_background": "light"
          }
        }
      ]
    },
    {
      "cell_type": "code",
      "source": [
        "Close_test = y_test\n",
        "time_test = X_test\n",
        "time_test = sm.add_constant(time_test)\n",
        "\n",
        "test_result=res.predict(time_test)\n",
        "plt.plot(test_result, label = \"Predict\")\n",
        "plt.plot(Close_test, label = \"Real\")\n",
        "plt.xlabel(\"time\")\n",
        "plt.ylabel(\"Close\")\n",
        "plt.legend()\n",
        "plt.title(\"Real vs Predict\")\n",
        "plt.show()"
      ],
      "metadata": {
        "colab": {
          "base_uri": "https://localhost:8080/",
          "height": 331
        },
        "id": "T_w5shlT5jks",
        "outputId": "ddbfddb7-e22e-4569-f253-2d1b498993e7"
      },
      "execution_count": 47,
      "outputs": [
        {
          "output_type": "stream",
          "name": "stderr",
          "text": [
            "/usr/local/lib/python3.7/dist-packages/statsmodels/tsa/tsatools.py:117: FutureWarning: In a future version of pandas all arguments of concat except for the argument 'objs' will be keyword-only\n",
            "  x = pd.concat(x[::order], 1)\n"
          ]
        },
        {
          "output_type": "display_data",
          "data": {
            "text/plain": [
              "<Figure size 432x288 with 1 Axes>"
            ],
            "image/png": "[encoded data removed]"
          },
          "metadata": {
            "needs_background": "light"
          }
        }
      ]
    },
    {
      "cell_type": "markdown",
      "source": [
        "***베이스라인모델과의 비교?***\n",
        "- 평균값을 이용한 베이스라인모델 보다 주가예측의 추세가 더 잘나타났다.\n",
        "- 시계열 데이터 때문에 교차검증이 에러가 뜨는 것 같은데 해결이 안되서 교차검증을 못했다."
      ],
      "metadata": {
        "id": "ClIuReIX8Y07"
      }
    }
  ]
}